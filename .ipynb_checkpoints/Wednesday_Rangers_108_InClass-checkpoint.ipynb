{
 "cells": [
  {
   "cell_type": "markdown",
   "metadata": {},
   "source": [
    "# Dictionaries, Sets, & Importing Modules"
   ]
  },
  {
   "cell_type": "markdown",
   "metadata": {},
   "source": [
    "## Tasks Today:\n",
    "\n",
    "1) Dictionary <br>\n",
    " &nbsp;&nbsp;&nbsp;&nbsp; a) Declaring (key, value) <br>\n",
    " &nbsp;&nbsp;&nbsp;&nbsp; b) Accessing Values <br>\n",
    " &nbsp;&nbsp;&nbsp;&nbsp; ------ Exercise #1 - Print the eye color of each person in a double nested dict <br>\n",
    " &nbsp;&nbsp;&nbsp;&nbsp; c) Adding New Pairs <br>\n",
    " &nbsp;&nbsp;&nbsp;&nbsp; d) Modifying Values <br>\n",
    " &nbsp;&nbsp;&nbsp;&nbsp; e) Removing Key, Value Pairs <br>\n",
    " &nbsp;&nbsp;&nbsp;&nbsp; f) Looping a Dictionary <br>\n",
    " &nbsp;&nbsp;&nbsp;&nbsp; g) Looping Only Keys <br>\n",
    " &nbsp;&nbsp;&nbsp;&nbsp; h) Looping Only Values <br>\n",
    " &nbsp;&nbsp;&nbsp;&nbsp; ------ Exercise #2 - Create a Function that Prints All Key Value Pairs within a print .format()  <br>\n",
    " &nbsp;&nbsp;&nbsp;&nbsp; i) sorted() <br>\n",
    " &nbsp;&nbsp;&nbsp;&nbsp; j) Lists with Dictionaries <br>\n",
    " &nbsp;&nbsp;&nbsp;&nbsp; k) Dictionaries with Lists <br>\n",
    " &nbsp;&nbsp;&nbsp;&nbsp; l) Dictionaries with Dictionaries <br>\n",
    " &nbsp;&nbsp;&nbsp;&nbsp; ------ Exercise #3 - Write a Function that asks someone's name and address, and then stores that into a dictionary, which prints all names and addresses after they're done putting information in...  <br>\n",
    "2) Dictionaries vs. Lists (over time)<br>\n",
    "3) Set <br>\n",
    " &nbsp;&nbsp;&nbsp;&nbsp; a) Declaring <br>\n",
    " &nbsp;&nbsp;&nbsp;&nbsp; b) .add() <br>\n",
    " &nbsp;&nbsp;&nbsp;&nbsp; c) .remove() <br>\n",
    " &nbsp;&nbsp;&nbsp;&nbsp; d) .union() <br>\n",
    " &nbsp;&nbsp;&nbsp;&nbsp; e) .intersection() <br>\n",
    " &nbsp;&nbsp;&nbsp;&nbsp; f) .difference() <br>\n",
    " &nbsp;&nbsp;&nbsp;&nbsp; g) Frozen Set <br>\n",
    "4) Modules <br>\n",
    " &nbsp;&nbsp;&nbsp;&nbsp; a) Importing Entire Modules <br>\n",
    " &nbsp;&nbsp;&nbsp;&nbsp; b) Importing Methods Only <br>\n",
    " &nbsp;&nbsp;&nbsp;&nbsp; c) Using the 'as' Keyword <br>\n",
    " &nbsp;&nbsp;&nbsp;&nbsp; d) Creating a Module <br>\n",
    "5) Exercises <br>\n",
    " &nbsp;&nbsp;&nbsp;&nbsp; a) Build a Shopping Cart <br>\n",
    " &nbsp;&nbsp;&nbsp;&nbsp; b) Create Your Own Module <br>"
   ]
  },
  {
   "cell_type": "markdown",
   "metadata": {},
   "source": [
    "## Dictionary <br>\n",
    "<p>A collection of data with 'key:value' pairs. Dictionaries are ordered as of Python 3.6</p>"
   ]
  },
  {
   "cell_type": "markdown",
   "metadata": {},
   "source": [
    "##### Declaring (key, value)"
   ]
  },
  {
   "cell_type": "code",
   "execution_count": 1,
   "metadata": {},
   "outputs": [],
   "source": [
    "# keys should be unique\n",
    "# can use numbers or strings as keys\n",
    "\n",
    "d_1 = {}\n",
    "\n",
    "#or\n",
    "\n",
    "d_2 = dict()"
   ]
  },
  {
   "cell_type": "code",
   "execution_count": 2,
   "metadata": {},
   "outputs": [
    {
     "name": "stdout",
     "output_type": "stream",
     "text": [
      "{'Tom': '255 Main Street', 'Jerry': '256 Main Street', 0: 'This is a 0'}\n"
     ]
    }
   ],
   "source": [
    "d_3 = {\n",
    "    \"Tom\": \"255 Main Street\",\n",
    "    \"Jerry\": \"256 Main Street\",\n",
    "    0: \"This is a 0\"\n",
    "}\n",
    "\n",
    "print(d_3)"
   ]
  },
  {
   "cell_type": "markdown",
   "metadata": {},
   "source": [
    "##### Accessing Values"
   ]
  },
  {
   "cell_type": "code",
   "execution_count": 5,
   "metadata": {},
   "outputs": [
    {
     "name": "stdout",
     "output_type": "stream",
     "text": [
      "256 Main Street\n",
      "This is a 0\n"
     ]
    }
   ],
   "source": [
    "# dict[key]\n",
    "\n",
    "d_3 = {\n",
    "    \"Tom\": \"255 Main Street\",\n",
    "    \"Jerry\": \"256 Main Street\",\n",
    "    0: \"This is a 0\"\n",
    "}\n",
    "\n",
    "print(d_3[\"Jerry\"])\n",
    "print(d_3[0])\n",
    "\n",
    "\n"
   ]
  },
  {
   "cell_type": "markdown",
   "metadata": {},
   "source": [
    "## In-Class Exercise #1 - Print a formatted statement from the dictionary below <br>\n",
    "<p>The output should be '2018 Chevrolet Silverado'</p>"
   ]
  },
  {
   "cell_type": "code",
   "execution_count": 3,
   "metadata": {},
   "outputs": [],
   "source": [
    "# use the dict below\n",
    "truck = {\n",
    "    \"year\": 2018,\n",
    "    'make': 'Chevrolet',\n",
    "    'model': 'Silverado'\n",
    "}\n",
    "\n",
    "print(f\"{year} {make} {model}. This is my car.\")\n",
    "\n"
   ]
  },
  {
   "cell_type": "markdown",
   "metadata": {},
   "source": [
    "##### Adding New Pairs"
   ]
  },
  {
   "cell_type": "code",
   "execution_count": 8,
   "metadata": {},
   "outputs": [
    {
     "name": "stdout",
     "output_type": "stream",
     "text": [
      "{'year': 2018, 'make': 'Chevrolet', 'model': 'Silverado', 'HP': 1000}\n"
     ]
    }
   ],
   "source": [
    "# dict[key] = value\n",
    "\n",
    "truck = {\n",
    "    \"year\": 2018,\n",
    "    'make': 'Chevrolet',\n",
    "    'model': 'Silverado'\n",
    "}\n",
    "\n",
    "truck['HP'] = 1000\n",
    "\n",
    "print(truck)\n"
   ]
  },
  {
   "cell_type": "markdown",
   "metadata": {},
   "source": [
    "##### Modifying Values"
   ]
  },
  {
   "cell_type": "code",
   "execution_count": 22,
   "metadata": {},
   "outputs": [
    {
     "name": "stdout",
     "output_type": "stream",
     "text": [
      "{'year': 2016, 'make': 'GMC', 'model': 'Sierra'}\n",
      "{'year': 2016, 'make': 'GMC', 'model': 'Sierra or Yukon'}\n"
     ]
    }
   ],
   "source": [
    "# dict[key] = value\n",
    "\n",
    "# dict[key] = value\n",
    "\n",
    "truck = {\n",
    "    \"year\": 2018,\n",
    "    'make': 'Chevrolet',\n",
    "    'model': 'Silverado'\n",
    "}\n",
    "\n",
    "truck['year'] = 2016\n",
    "truck['make'] = \"GMC\"\n",
    "truck[\"model\"] = \"Sierra\"\n",
    "\n",
    "print(truck)\n",
    "\n",
    "truck['model'] = truck['model'] + ' or Yukon'\n",
    "\n",
    "print(truck)"
   ]
  },
  {
   "cell_type": "code",
   "execution_count": 13,
   "metadata": {},
   "outputs": [
    {
     "name": "stdout",
     "output_type": "stream",
     "text": [
      "{1: 1}\n",
      "{1: 1, 2: 1}\n",
      "{1: 1, 2: 1, 5: 1}\n",
      "{1: 1, 2: 1, 5: 1, 3: 1}\n",
      "{1: 1, 2: 1, 5: 1, 3: 1, 4: 1}\n",
      "{1: 1, 2: 1, 5: 2, 3: 1, 4: 1}\n",
      "{1: 1, 2: 1, 5: 2, 3: 1, 4: 1, 10: 1}\n",
      "{1: 1, 2: 1, 5: 3, 3: 1, 4: 1, 10: 1}\n"
     ]
    }
   ],
   "source": [
    "my_list = [1, 2, 5, 3, 4, 5, 10, 5]\n",
    "my_dict = {}\n",
    "\n",
    "for num in my_list:\n",
    "    if num not in my_dict:\n",
    "        my_dict[num] = 1\n",
    "        print(my_dict)\n",
    "    else:\n",
    "        my_dict[num] += 1\n",
    "        print(my_dict)"
   ]
  },
  {
   "cell_type": "markdown",
   "metadata": {},
   "source": [
    "##### Removing Key, Value Pairs"
   ]
  },
  {
   "cell_type": "code",
   "execution_count": 10,
   "metadata": {},
   "outputs": [
    {
     "name": "stdout",
     "output_type": "stream",
     "text": [
      "{'year': 2018, 'model': 'Silverado'}\n"
     ]
    }
   ],
   "source": [
    "# del dict[key]\n",
    "\n",
    "truck = {\n",
    "    \"year\": 2018,\n",
    "    'make': 'Chevrolet',\n",
    "    'model': 'Silverado'\n",
    "}\n",
    "\n",
    "del truck['make']\n",
    "\n",
    "print(truck)\n"
   ]
  },
  {
   "cell_type": "markdown",
   "metadata": {},
   "source": [
    "##### Looping a Dictionary"
   ]
  },
  {
   "cell_type": "code",
   "execution_count": 18,
   "metadata": {},
   "outputs": [
    {
     "name": "stdout",
     "output_type": "stream",
     "text": [
      "dict_items([('a', 1), ('b', 2), ('c', 3)])\n",
      "a is the key for value 1\n",
      "b is the key for value 2\n",
      "c is the key for value 3\n"
     ]
    }
   ],
   "source": [
    "# .items()\n",
    "# a, b, c = 1, 2, 3\n",
    "dict_1 = {\n",
    "    \"a\": 1,\n",
    "    \"b\": 2,\n",
    "    \"c\": 3\n",
    "}\n",
    " \n",
    "view = dict_1.items()\n",
    "\n",
    "print(view)\n",
    "\n",
    "for char, num in dict_1.items():\n",
    "    print(f\"{char} is the key for value {num}\")\n"
   ]
  },
  {
   "cell_type": "markdown",
   "metadata": {},
   "source": [
    "##### Looping Only Keys"
   ]
  },
  {
   "cell_type": "code",
   "execution_count": 24,
   "metadata": {},
   "outputs": [
    {
     "name": "stdout",
     "output_type": "stream",
     "text": [
      "a\n",
      "b\n",
      "c\n",
      "a\n",
      "b\n",
      "c\n"
     ]
    }
   ],
   "source": [
    "# .keys()\n",
    "dict_1 = {\n",
    "    \"a\": 1,\n",
    "    \"b\": 2,\n",
    "    \"c\": 3\n",
    "}\n",
    "for key in dict_1.keys():\n",
    "    print(key)\n",
    "#also defaults to .keys()\n",
    "for key in dict_1:\n",
    "    print(key)\n"
   ]
  },
  {
   "cell_type": "markdown",
   "metadata": {},
   "source": [
    "##### Looping Only Values"
   ]
  },
  {
   "cell_type": "code",
   "execution_count": 26,
   "metadata": {
    "scrolled": true
   },
   "outputs": [
    {
     "name": "stdout",
     "output_type": "stream",
     "text": [
      "1\n",
      "2\n",
      "3\n",
      "this is not 2\n",
      "this is 2\n",
      "this is not 2\n"
     ]
    }
   ],
   "source": [
    "# .values()\n",
    "dict_1 = {\n",
    "    \"a\": 1,\n",
    "    \"b\": 2,\n",
    "    \"c\": 3\n",
    "}\n",
    "\n",
    "for num in dict_1.values():\n",
    "    print(num)\n",
    "\n",
    "for num in dict_1.values():\n",
    "    if num == 2:\n",
    "        print(\"this is 2\")\n",
    "    else:\n",
    "        print(\"this is not 2\")"
   ]
  },
  {
   "cell_type": "markdown",
   "metadata": {},
   "source": [
    "## In-Class Exercise #2 - Create a Function that Prints All Key Value Pairs within a print .format() <br>\n",
    "<p><b>Output should be:</b><br>\n",
    "Max has blue eyes<br>\n",
    "Lilly has brown eyes<br>\n",
    "Barney has blue eyes<br>\n",
    "etc.\n",
    "</p>"
   ]
  },
  {
   "cell_type": "code",
   "execution_count": 29,
   "metadata": {},
   "outputs": [
    {
     "name": "stdout",
     "output_type": "stream",
     "text": [
      "Max has blue eyes!\n",
      "Lilly has brown eyes!\n",
      "Barney has green eyes!\n",
      "Ted has purple eyes!\n",
      "Sasuke has sharingan eyes!\n"
     ]
    }
   ],
   "source": [
    "# use the dict below\n",
    "people = {\n",
    "    'Max' : 'blue',\n",
    "    'Lilly' : 'brown',\n",
    "    'Barney' : 'green',\n",
    "    'Ted' : 'purple',\n",
    "    'Sasuke' : 'sharingan'\n",
    "}\n",
    "\n",
    "for person, eye_color in people.items():\n",
    "    print(f\"{person} has {eye_color} eyes!\")"
   ]
  },
  {
   "cell_type": "markdown",
   "metadata": {},
   "source": [
    "##### sorted()"
   ]
  },
  {
   "cell_type": "code",
   "execution_count": 35,
   "metadata": {},
   "outputs": [
    {
     "name": "stdout",
     "output_type": "stream",
     "text": [
      "Values ['blue', 'brown', 'green', 'purple', 'sharingan']\n",
      "Keys ['Barney', 'Lilly', 'Max', 'Sasuke', 'Ted']\n",
      "Key, Value Pairs [('Barney', 'green'), ('Lilly', 'brown'), ('Max', 'blue'), ('Sasuke', 'sharingan'), ('Ted', 'purple')]\n",
      "\n",
      "\n",
      "green\n"
     ]
    }
   ],
   "source": [
    "# sorts variables in order\n",
    "# sorted(dict.values()) or dict.keys() or dict.items()\n",
    "#sorted always returns a list. when you do sorted(dict.items()) you get a list of tuples that can be accessed as dict.items()[i][i]\n",
    "people = {\n",
    "    'Max' : 'blue',\n",
    "    'Lilly' : 'brown',\n",
    "    'Barney' : 'green',\n",
    "    'Ted' : 'purple',\n",
    "    'Sasuke' : 'sharingan'\n",
    "}\n",
    "\n",
    "print(\"Values\", sorted(people.values()))\n",
    "print(\"Keys\", sorted(people.keys()))\n",
    "print(\"Key, Value Pairs\", sorted(people.items()))\n",
    "\n",
    "print(\"\\n\")\n",
    "\n",
    "print(sorted(people.items())[0][1])"
   ]
  },
  {
   "cell_type": "markdown",
   "metadata": {},
   "source": [
    "##### List with Dictionaries"
   ]
  },
  {
   "cell_type": "code",
   "execution_count": 44,
   "metadata": {},
   "outputs": [
    {
     "name": "stdout",
     "output_type": "stream",
     "text": [
      "Gaara\n",
      "{'leaf_village': 'Naruto', 'leaf_village2': 'Kakashi'}\n",
      "Kakashi\n",
      "dict_keys(['leaf_village', 'leaf_village2'])\n",
      "leaf_village\n",
      "leaf_village2\n"
     ]
    }
   ],
   "source": [
    "shinobi = [\"Shikamaru\", \"Gaara\", \"OctoPops\", {\"leaf_village\": \"Naruto\", \"leaf_village2\": \"Kakashi\"}]\n",
    "\n",
    "print(shinobi[1])\n",
    "print(shinobi[3])\n",
    "print(shinobi[3][\"leaf_village2\"])\n",
    "print(shinobi[3].keys()) #have to use for loop to get specific key\n",
    "\n",
    "for person in shinobi[3].keys():\n",
    "    print(person)\n",
    "\n",
    "\n"
   ]
  },
  {
   "cell_type": "markdown",
   "metadata": {},
   "source": [
    "##### Dictionaries with Lists"
   ]
  },
  {
   "cell_type": "code",
   "execution_count": 47,
   "metadata": {},
   "outputs": [
    {
     "name": "stdout",
     "output_type": "stream",
     "text": [
      "54\n",
      "John\n",
      "Laura\n",
      "Bulbasaur\n"
     ]
    }
   ],
   "source": [
    "# be careful when using numbers as keys in dictionaries, don't confuse them with indexes\n",
    "\n",
    "random_data = {\n",
    "    \"list_1\": [54, 65, 90],\n",
    "    \"names\": ['John', 'Laura', 'Bulbasaur']\n",
    "}\n",
    "\n",
    "print(random_data[\"list_1\"][0])\n",
    "\n",
    "for name in random_data['names']:\n",
    "    print(name)"
   ]
  },
  {
   "cell_type": "markdown",
   "metadata": {},
   "source": [
    "##### Dictionaries with Dictionaries"
   ]
  },
  {
   "cell_type": "code",
   "execution_count": 49,
   "metadata": {},
   "outputs": [
    {
     "name": "stdout",
     "output_type": "stream",
     "text": [
      "{'Ryan': {'Mexican': ['Tacos', 'Tortas', 'Arroz'], 'Desserts': ['Cheesecake', 'Cupcakes', 'Pie', 'Cookies']}, 'James': {'Main Course': ['Meatloaf', 'Beef Stroganoff', 'Chicken Stuffing Broccoli Casserole'], 'Desserts': ['Crumb Nutty Pie', 'Moon Pie', 'Pink Salad']}, 'Nate': {'favorite_dinner': ['Hibachi', 'Mexican', 'Italian'], 'favorite_dessert': ['Pazooki', 'Red Velvet Cake', 'Pumpkin Pie']}, 'Tenzin': {'Indian': ['Dumplings', 'Naan', 'Tandoori'], 'Mexican': ['Nachos', 'Empanadas', 'Burrito']}, 'Dylan': {'Sushi': ['Fatty Tuna', 'Unagi', 'Crab Roll'], 'Soup': ['Miso', 'Potato', 'Wonton']}, 'Jeong': {'Japanese': ['Sushi', 'Katsu', 'Ramen'], 'Korean': ['KBBQ', 'Stew', 'Porridge', 'K-Chicken'], 'Deserts': ['Bouncy Cheesecake', 'Ice Cream']}, 'John': {'Japanese': ['Sushi', 'Takoyaki', 'Ramen'], 'American': ['Cheeseburger', 'Crabcake'], 'Desserts': ['Pie', 'Ice Cream']}, 'Mike': {'Indian': ['Curry', 'Tikka', 'Chana'], 'Desserts': ['Applepie', 'Pecanpie', 'Carrotcake']}, 'Sam': {'Meals': ['Pizza', \"Wendy's 4 for 4\", 'Pasta', 'Hoagies'], 'Veggies': ['cucumbers', 'avocados', 'tomatoes', 'carrots']}, 'Kayla': {'Asian': ['Ramen', 'Bulgogi', 'HotPot'], 'Desserts': ['Chocolate', 'WaterGateSalad', 'Icecream']}, 'Austin': {'Mexican': ['Ceviche', 'Shrimp Chimichanga'], 'Fast Food': ['Chipolte', 'Chic-Fil-a'], 'Japanese': ['Nigri', 'Sashimi(Eel)']}, 'Mohammad': {'Food': ['Pasta', 'Fried Chicken', 'Tacos'], 'Desserts': ['Chocolate Cake', 'Ice Cream']}, 'Alex': {'Hispanic': ['tacos', 'pupusas', 'tomales'], 'Desserts': ['cheesecake', 'ice cream', 'tarimasu'], 'Cajun': ['gumbo', 'poboy', 'jambalaya']}}\n",
      "\n",
      "\n"
     ]
    }
   ],
   "source": [
    "# to get values, must traverse through keys\n",
    "# to get values, must traverse through keys\n",
    "food_dict = {\n",
    "    \"Ryan\": {\n",
    "        \"Mexican\": [\"Tacos\", \"Tortas\", \"Arroz\"],\n",
    "        \"Desserts\": [\"Cheesecake\", \"Cupcakes\", \"Pie\", \"Cookies\"]\n",
    "    },\n",
    "    \"James\": {\n",
    "        \"Main Course\": [\"Meatloaf\", \"Beef Stroganoff\", \"Chicken Stuffing Broccoli Casserole\"],\n",
    "        \"Desserts\": [\"Crumb Nutty Pie\", \"Moon Pie\", \"Pink Salad\"]\n",
    "    },\n",
    "    \"Nate\": {\n",
    "        \"favorite_dinner\": ['Hibachi', 'Mexican', 'Italian'],\n",
    "        \"favorite_dessert\": ['Pazooki', 'Red Velvet Cake', \"Pumpkin Pie\" ]\n",
    "    },\n",
    "    \"Tenzin\": {\n",
    "        \"Indian\": [\"Dumplings\",\"Naan\",\"Tandoori\"],\n",
    "        \"Mexican\": [\"Nachos\", \"Empanadas\",\"Burrito\"]\n",
    "    },\n",
    "    \"Dylan\" : {\n",
    "        \"Sushi\" : [\"Fatty Tuna\", \"Unagi\", \"Crab Roll\"],\n",
    "        \"Soup\" : [\"Miso\", \"Potato\", \"Wonton\"] \n",
    "    },\n",
    "    \"Jeong\": {\n",
    "        \"Japanese\": [\"Sushi\", \"Katsu\", \"Ramen\"],\n",
    "        \"Korean\": [\"KBBQ\", \"Stew\", \"Porridge\", \"K-Chicken\"],\n",
    "        \"Deserts\": [\"Bouncy Cheesecake\", \"Ice Cream\"]\n",
    "    },\n",
    "    \"John\": {\n",
    "        \"Japanese\": [\"Sushi\", \"Takoyaki\", \"Ramen\"],\n",
    "        \"American\": [\"Cheeseburger\", \"Crabcake\"],\n",
    "        \"Desserts\": [\"Pie\", \"Ice Cream\"]\n",
    "    },\n",
    "    \"Mike\": {        \n",
    "        \"Indian\": [\"Curry\", \"Tikka\", \"Chana\"],\n",
    "        \"Desserts\":[\"Applepie\", \"Pecanpie\", \"Carrotcake\"]       \n",
    "        \n",
    "    },\n",
    "    \"Sam\": {\n",
    "        \"Meals\": [\"Pizza\", \"Wendy's 4 for 4\", \"Pasta\", \"Hoagies\"],\n",
    "        \"Veggies\": [\"cucumbers\", \"avocados\", \"tomatoes\", \"carrots\"]\n",
    "    },\n",
    "    \n",
    "    'Kayla':{\n",
    "        'Asian': ['Ramen', 'Bulgogi', 'HotPot'],\n",
    "        'Desserts': ['Chocolate', 'WaterGateSalad', 'Icecream']\n",
    "    }\n",
    "    ,\n",
    "    \"Austin\": {\n",
    "         \"Mexican\":[\"Ceviche\",\"Shrimp Chimichanga\"],\n",
    "         \"Fast Food\": [\"Chipolte\", \"Chic-Fil-a\"],\n",
    "         \"Japanese\": [\"Nigri\", \"Sashimi(Eel)\"]\n",
    "    },\n",
    "    \"Mohammad\": {\n",
    "        \"Food\":[\"Pasta\", \"Fried Chicken\" , \"Tacos\"],\n",
    "        \"Desserts\":[\"Chocolate Cake\" ,\"Ice Cream\"]\n",
    "    },\n",
    "    \"Alex\": {\n",
    "        \"Hispanic\" : ['tacos', 'pupusas', 'tomales'],\n",
    "        'Desserts': ['cheesecake','ice cream', 'tarimasu'],\n",
    "        'Cajun': ['gumbo','poboy','jambalaya']\n",
    "    }\n",
    "        \n",
    "\n",
    "}\n",
    "\n",
    "print(food_dict)"
   ]
  },
  {
   "cell_type": "code",
   "execution_count": 51,
   "metadata": {},
   "outputs": [
    {
     "name": "stdout",
     "output_type": "stream",
     "text": [
      "Ryan's favorite desserts are: Cheesecake, Cupcakes, Pie, Cookies, \n"
     ]
    }
   ],
   "source": [
    "#print Ryan's Desserts\n",
    "dessert_string = \"Ryan's favorite desserts are: \"\n",
    "for dessert in food_dict['Ryan']['Desserts']:\n",
    "    dessert_string += dessert + \", \"\n",
    "print(dessert_string)"
   ]
  },
  {
   "cell_type": "code",
   "execution_count": 74,
   "metadata": {},
   "outputs": [
    {
     "name": "stdout",
     "output_type": "stream",
     "text": [
      "\n",
      "Ryan's favorite foods are: \n",
      "Tacos\n",
      "Tortas\n",
      "Arroz\n",
      "Cheesecake\n",
      "Cupcakes\n",
      "Pie\n",
      "Cookies\n",
      "\n",
      "James's favorite foods are: \n",
      "Meatloaf\n",
      "Beef Stroganoff\n",
      "Chicken Stuffing Broccoli Casserole\n",
      "Crumb Nutty Pie\n",
      "Moon Pie\n",
      "Pink Salad\n",
      "\n",
      "Nate's favorite foods are: \n",
      "Hibachi\n",
      "Mexican\n",
      "Italian\n",
      "Pazooki\n",
      "Red Velvet Cake\n",
      "Pumpkin Pie\n",
      "\n",
      "Tenzin's favorite foods are: \n",
      "Dumplings\n",
      "Naan\n",
      "Tandoori\n",
      "Nachos\n",
      "Empanadas\n",
      "Burrito\n",
      "\n",
      "Dylan's favorite foods are: \n",
      "Fatty Tuna\n",
      "Unagi\n",
      "Crab Roll\n",
      "Miso\n",
      "Potato\n",
      "Wonton\n",
      "\n",
      "Jeong's favorite foods are: \n",
      "Sushi\n",
      "Katsu\n",
      "Ramen\n",
      "KBBQ\n",
      "Stew\n",
      "Porridge\n",
      "K-Chicken\n",
      "Bouncy Cheesecake\n",
      "Ice Cream\n",
      "\n",
      "John's favorite foods are: \n",
      "Sushi\n",
      "Takoyaki\n",
      "Ramen\n",
      "Cheeseburger\n",
      "Crabcake\n",
      "Pie\n",
      "Ice Cream\n",
      "\n",
      "Mike's favorite foods are: \n",
      "Curry\n",
      "Tikka\n",
      "Chana\n",
      "Applepie\n",
      "Pecanpie\n",
      "Carrotcake\n",
      "\n",
      "Sam's favorite foods are: \n",
      "Pizza\n",
      "Wendy's 4 for 4\n",
      "Pasta\n",
      "Hoagies\n",
      "cucumbers\n",
      "avocados\n",
      "tomatoes\n",
      "carrots\n",
      "\n",
      "Kayla's favorite foods are: \n",
      "Ramen\n",
      "Bulgogi\n",
      "HotPot\n",
      "Chocolate\n",
      "WaterGateSalad\n",
      "Icecream\n",
      "\n",
      "Austin's favorite foods are: \n",
      "Ceviche\n",
      "Shrimp Chimichanga\n",
      "Chipolte\n",
      "Chic-Fil-a\n",
      "Nigri\n",
      "Sashimi(Eel)\n",
      "\n",
      "Mohammad's favorite foods are: \n",
      "Pasta\n",
      "Fried Chicken\n",
      "Tacos\n",
      "Chocolate Cake\n",
      "Ice Cream\n",
      "\n",
      "Alex's favorite foods are: \n",
      "tacos\n",
      "pupusas\n",
      "tomales\n",
      "cheesecake\n",
      "ice cream\n",
      "tarimasu\n",
      "gumbo\n",
      "poboy\n",
      "jambalaya\n"
     ]
    }
   ],
   "source": [
    "#everyone's favorite cuisines\n",
    "#double for-loop to get into keys' keys\n",
    "for person in food_dict.keys():\n",
    "    print(f\"\\n{person}'s favorite foods are: \")\n",
    "    for cuisine in food_dict[person].keys():\n",
    "        for food in food_dict[person][cuisine]:\n",
    "            print(food)"
   ]
  },
  {
   "cell_type": "markdown",
   "metadata": {},
   "source": [
    "## Dictionaries vs. Lists (over time) Example of RUNTIME\n",
    "### When inputting values in a Dictionary vs List"
   ]
  },
  {
   "cell_type": "code",
   "execution_count": 80,
   "metadata": {},
   "outputs": [
    {
     "name": "stdout",
     "output_type": "stream",
     "text": [
      "{0: 'value 0', 1: 'value 1', 2: 'value 2', 3: 'value 3', 4: 'value 4', 5: 'value 5', 6: 'value 6', 7: 'value 7', 8: 'value 8', 9: 'value 9', 10: 'value 10', 11: 'value 11', 12: 'value 12', 13: 'value 13', 14: 'value 14', 15: 'value 15', 16: 'value 16', 17: 'value 17', 18: 'value 18', 19: 'value 19', 20: 'value 20', 21: 'value 21', 22: 'value 22', 23: 'value 23', 24: 'value 24', 25: 'value 25', 26: 'value 26', 27: 'value 27', 28: 'value 28', 29: 'value 29', 30: 'value 30', 31: 'value 31', 32: 'value 32', 33: 'value 33', 34: 'value 34', 35: 'value 35', 36: 'value 36', 37: 'value 37', 38: 'value 38', 39: 'value 39', 40: 'value 40', 41: 'value 41', 42: 'value 42', 43: 'value 43', 44: 'value 44', 45: 'value 45', 46: 'value 46', 47: 'value 47', 48: 'value 48', 49: 'value 49', 50: 'value 50', 51: 'value 51', 52: 'value 52', 53: 'value 53', 54: 'value 54', 55: 'value 55', 56: 'value 56', 57: 'value 57', 58: 'value 58', 59: 'value 59', 60: 'value 60', 61: 'value 61', 62: 'value 62', 63: 'value 63', 64: 'value 64', 65: 'value 65', 66: 'value 66', 67: 'value 67', 68: 'value 68', 69: 'value 69', 70: 'value 70', 71: 'value 71', 72: 'value 72', 73: 'value 73', 74: 'value 74', 75: 'value 75', 76: 'value 76', 77: 'value 77', 78: 'value 78', 79: 'value 79', 80: 'value 80', 81: 'value 81', 82: 'value 82', 83: 'value 83', 84: 'value 84', 85: 'value 85', 86: 'value 86', 87: 'value 87', 88: 'value 88', 89: 'value 89', 90: 'value 90', 91: 'value 91', 92: 'value 92', 93: 'value 93', 94: 'value 94', 95: 'value 95', 96: 'value 96', 97: 'value 97', 98: 'value 98', 99: 'value 99', 100: 'value 100', 101: 'value 101', 102: 'value 102', 103: 'value 103', 104: 'value 104', 105: 'value 105', 106: 'value 106', 107: 'value 107', 108: 'value 108', 109: 'value 109', 110: 'value 110', 111: 'value 111', 112: 'value 112', 113: 'value 113', 114: 'value 114', 115: 'value 115', 116: 'value 116', 117: 'value 117', 118: 'value 118', 119: 'value 119', 120: 'value 120', 121: 'value 121', 122: 'value 122', 123: 'value 123', 124: 'value 124', 125: 'value 125', 126: 'value 126', 127: 'value 127', 128: 'value 128', 129: 'value 129', 130: 'value 130', 131: 'value 131', 132: 'value 132', 133: 'value 133', 134: 'value 134', 135: 'value 135', 136: 'value 136', 137: 'value 137', 138: 'value 138', 139: 'value 139', 140: 'value 140', 141: 'value 141', 142: 'value 142', 143: 'value 143', 144: 'value 144', 145: 'value 145', 146: 'value 146', 147: 'value 147', 148: 'value 148', 149: 'value 149', 150: 'value 150', 151: 'value 151', 152: 'value 152', 153: 'value 153', 154: 'value 154', 155: 'value 155', 156: 'value 156', 157: 'value 157', 158: 'value 158', 159: 'value 159', 160: 'value 160', 161: 'value 161', 162: 'value 162', 163: 'value 163', 164: 'value 164', 165: 'value 165', 166: 'value 166', 167: 'value 167', 168: 'value 168', 169: 'value 169', 170: 'value 170', 171: 'value 171', 172: 'value 172', 173: 'value 173', 174: 'value 174', 175: 'value 175', 176: 'value 176', 177: 'value 177', 178: 'value 178', 179: 'value 179', 180: 'value 180', 181: 'value 181', 182: 'value 182', 183: 'value 183', 184: 'value 184', 185: 'value 185', 186: 'value 186', 187: 'value 187', 188: 'value 188', 189: 'value 189', 190: 'value 190', 191: 'value 191', 192: 'value 192', 193: 'value 193', 194: 'value 194', 195: 'value 195', 196: 'value 196', 197: 'value 197', 198: 'value 198', 199: 'value 199', 200: 'value 200', 201: 'value 201', 202: 'value 202', 203: 'value 203', 204: 'value 204', 205: 'value 205', 206: 'value 206', 207: 'value 207', 208: 'value 208', 209: 'value 209', 210: 'value 210', 211: 'value 211', 212: 'value 212', 213: 'value 213', 214: 'value 214', 215: 'value 215', 216: 'value 216', 217: 'value 217', 218: 'value 218', 219: 'value 219', 220: 'value 220', 221: 'value 221', 222: 'value 222', 223: 'value 223', 224: 'value 224', 225: 'value 225', 226: 'value 226', 227: 'value 227', 228: 'value 228', 229: 'value 229', 230: 'value 230', 231: 'value 231', 232: 'value 232', 233: 'value 233', 234: 'value 234', 235: 'value 235', 236: 'value 236', 237: 'value 237', 238: 'value 238', 239: 'value 239', 240: 'value 240', 241: 'value 241', 242: 'value 242', 243: 'value 243', 244: 'value 244', 245: 'value 245', 246: 'value 246', 247: 'value 247', 248: 'value 248', 249: 'value 249', 250: 'value 250', 251: 'value 251', 252: 'value 252', 253: 'value 253', 254: 'value 254', 255: 'value 255', 256: 'value 256', 257: 'value 257', 258: 'value 258', 259: 'value 259', 260: 'value 260', 261: 'value 261', 262: 'value 262', 263: 'value 263', 264: 'value 264', 265: 'value 265', 266: 'value 266', 267: 'value 267', 268: 'value 268', 269: 'value 269', 270: 'value 270', 271: 'value 271', 272: 'value 272', 273: 'value 273', 274: 'value 274', 275: 'value 275', 276: 'value 276', 277: 'value 277', 278: 'value 278', 279: 'value 279', 280: 'value 280', 281: 'value 281', 282: 'value 282', 283: 'value 283', 284: 'value 284', 285: 'value 285', 286: 'value 286', 287: 'value 287', 288: 'value 288', 289: 'value 289', 290: 'value 290', 291: 'value 291', 292: 'value 292', 293: 'value 293', 294: 'value 294', 295: 'value 295', 296: 'value 296', 297: 'value 297', 298: 'value 298', 299: 'value 299', 300: 'value 300', 301: 'value 301', 302: 'value 302', 303: 'value 303', 304: 'value 304', 305: 'value 305', 306: 'value 306', 307: 'value 307', 308: 'value 308', 309: 'value 309', 310: 'value 310', 311: 'value 311', 312: 'value 312', 313: 'value 313', 314: 'value 314', 315: 'value 315', 316: 'value 316', 317: 'value 317', 318: 'value 318', 319: 'value 319', 320: 'value 320', 321: 'value 321', 322: 'value 322', 323: 'value 323', 324: 'value 324', 325: 'value 325', 326: 'value 326', 327: 'value 327', 328: 'value 328', 329: 'value 329', 330: 'value 330', 331: 'value 331', 332: 'value 332', 333: 'value 333', 334: 'value 334', 335: 'value 335', 336: 'value 336', 337: 'value 337', 338: 'value 338', 339: 'value 339', 340: 'value 340', 341: 'value 341', 342: 'value 342', 343: 'value 343', 344: 'value 344', 345: 'value 345', 346: 'value 346', 347: 'value 347', 348: 'value 348', 349: 'value 349', 350: 'value 350', 351: 'value 351', 352: 'value 352', 353: 'value 353', 354: 'value 354', 355: 'value 355', 356: 'value 356', 357: 'value 357', 358: 'value 358', 359: 'value 359', 360: 'value 360', 361: 'value 361', 362: 'value 362', 363: 'value 363', 364: 'value 364', 365: 'value 365', 366: 'value 366', 367: 'value 367', 368: 'value 368', 369: 'value 369', 370: 'value 370', 371: 'value 371', 372: 'value 372', 373: 'value 373', 374: 'value 374', 375: 'value 375', 376: 'value 376', 377: 'value 377', 378: 'value 378', 379: 'value 379', 380: 'value 380', 381: 'value 381', 382: 'value 382', 383: 'value 383', 384: 'value 384', 385: 'value 385', 386: 'value 386', 387: 'value 387', 388: 'value 388', 389: 'value 389', 390: 'value 390', 391: 'value 391', 392: 'value 392', 393: 'value 393', 394: 'value 394', 395: 'value 395', 396: 'value 396', 397: 'value 397', 398: 'value 398', 399: 'value 399', 400: 'value 400', 401: 'value 401', 402: 'value 402', 403: 'value 403', 404: 'value 404', 405: 'value 405', 406: 'value 406', 407: 'value 407', 408: 'value 408', 409: 'value 409', 410: 'value 410', 411: 'value 411', 412: 'value 412', 413: 'value 413', 414: 'value 414', 415: 'value 415', 416: 'value 416', 417: 'value 417', 418: 'value 418', 419: 'value 419', 420: 'value 420', 421: 'value 421', 422: 'value 422', 423: 'value 423', 424: 'value 424', 425: 'value 425', 426: 'value 426', 427: 'value 427', 428: 'value 428', 429: 'value 429', 430: 'value 430', 431: 'value 431', 432: 'value 432', 433: 'value 433', 434: 'value 434', 435: 'value 435', 436: 'value 436', 437: 'value 437', 438: 'value 438', 439: 'value 439', 440: 'value 440', 441: 'value 441', 442: 'value 442', 443: 'value 443', 444: 'value 444', 445: 'value 445', 446: 'value 446', 447: 'value 447', 448: 'value 448', 449: 'value 449', 450: 'value 450', 451: 'value 451', 452: 'value 452', 453: 'value 453', 454: 'value 454', 455: 'value 455', 456: 'value 456', 457: 'value 457', 458: 'value 458', 459: 'value 459', 460: 'value 460', 461: 'value 461', 462: 'value 462', 463: 'value 463', 464: 'value 464', 465: 'value 465', 466: 'value 466', 467: 'value 467', 468: 'value 468', 469: 'value 469', 470: 'value 470', 471: 'value 471', 472: 'value 472', 473: 'value 473', 474: 'value 474', 475: 'value 475', 476: 'value 476', 477: 'value 477', 478: 'value 478', 479: 'value 479', 480: 'value 480', 481: 'value 481', 482: 'value 482', 483: 'value 483', 484: 'value 484', 485: 'value 485', 486: 'value 486', 487: 'value 487', 488: 'value 488', 489: 'value 489', 490: 'value 490', 491: 'value 491', 492: 'value 492', 493: 'value 493', 494: 'value 494', 495: 'value 495', 496: 'value 496', 497: 'value 497', 498: 'value 498', 499: 'value 499', 500: 'value 500', 501: 'value 501', 502: 'value 502', 503: 'value 503', 504: 'value 504', 505: 'value 505', 506: 'value 506', 507: 'value 507', 508: 'value 508', 509: 'value 509', 510: 'value 510', 511: 'value 511', 512: 'value 512', 513: 'value 513', 514: 'value 514', 515: 'value 515', 516: 'value 516', 517: 'value 517', 518: 'value 518', 519: 'value 519', 520: 'value 520', 521: 'value 521', 522: 'value 522', 523: 'value 523', 524: 'value 524', 525: 'value 525', 526: 'value 526', 527: 'value 527', 528: 'value 528', 529: 'value 529', 530: 'value 530', 531: 'value 531', 532: 'value 532', 533: 'value 533', 534: 'value 534', 535: 'value 535', 536: 'value 536', 537: 'value 537', 538: 'value 538', 539: 'value 539', 540: 'value 540', 541: 'value 541', 542: 'value 542', 543: 'value 543', 544: 'value 544', 545: 'value 545', 546: 'value 546', 547: 'value 547', 548: 'value 548', 549: 'value 549', 550: 'value 550', 551: 'value 551', 552: 'value 552', 553: 'value 553', 554: 'value 554', 555: 'value 555', 556: 'value 556', 557: 'value 557', 558: 'value 558', 559: 'value 559', 560: 'value 560', 561: 'value 561', 562: 'value 562', 563: 'value 563', 564: 'value 564', 565: 'value 565', 566: 'value 566', 567: 'value 567', 568: 'value 568', 569: 'value 569', 570: 'value 570', 571: 'value 571', 572: 'value 572', 573: 'value 573', 574: 'value 574', 575: 'value 575', 576: 'value 576', 577: 'value 577', 578: 'value 578', 579: 'value 579', 580: 'value 580', 581: 'value 581', 582: 'value 582', 583: 'value 583', 584: 'value 584', 585: 'value 585', 586: 'value 586', 587: 'value 587', 588: 'value 588', 589: 'value 589', 590: 'value 590', 591: 'value 591', 592: 'value 592', 593: 'value 593', 594: 'value 594', 595: 'value 595', 596: 'value 596', 597: 'value 597', 598: 'value 598', 599: 'value 599', 600: 'value 600', 601: 'value 601', 602: 'value 602', 603: 'value 603', 604: 'value 604', 605: 'value 605', 606: 'value 606', 607: 'value 607', 608: 'value 608', 609: 'value 609', 610: 'value 610', 611: 'value 611', 612: 'value 612', 613: 'value 613', 614: 'value 614', 615: 'value 615', 616: 'value 616', 617: 'value 617', 618: 'value 618', 619: 'value 619', 620: 'value 620', 621: 'value 621', 622: 'value 622', 623: 'value 623', 624: 'value 624', 625: 'value 625', 626: 'value 626', 627: 'value 627', 628: 'value 628', 629: 'value 629', 630: 'value 630', 631: 'value 631', 632: 'value 632', 633: 'value 633', 634: 'value 634', 635: 'value 635', 636: 'value 636', 637: 'value 637', 638: 'value 638', 639: 'value 639', 640: 'value 640', 641: 'value 641', 642: 'value 642', 643: 'value 643', 644: 'value 644', 645: 'value 645', 646: 'value 646', 647: 'value 647', 648: 'value 648', 649: 'value 649', 650: 'value 650', 651: 'value 651', 652: 'value 652', 653: 'value 653', 654: 'value 654', 655: 'value 655', 656: 'value 656', 657: 'value 657', 658: 'value 658', 659: 'value 659', 660: 'value 660', 661: 'value 661', 662: 'value 662', 663: 'value 663', 664: 'value 664', 665: 'value 665', 666: 'value 666', 667: 'value 667', 668: 'value 668', 669: 'value 669', 670: 'value 670', 671: 'value 671', 672: 'value 672', 673: 'value 673', 674: 'value 674', 675: 'value 675', 676: 'value 676', 677: 'value 677', 678: 'value 678', 679: 'value 679', 680: 'value 680', 681: 'value 681', 682: 'value 682', 683: 'value 683', 684: 'value 684', 685: 'value 685', 686: 'value 686', 687: 'value 687', 688: 'value 688', 689: 'value 689', 690: 'value 690', 691: 'value 691', 692: 'value 692', 693: 'value 693', 694: 'value 694', 695: 'value 695', 696: 'value 696', 697: 'value 697', 698: 'value 698', 699: 'value 699', 700: 'value 700', 701: 'value 701', 702: 'value 702', 703: 'value 703', 704: 'value 704', 705: 'value 705', 706: 'value 706', 707: 'value 707', 708: 'value 708', 709: 'value 709', 710: 'value 710', 711: 'value 711', 712: 'value 712', 713: 'value 713', 714: 'value 714', 715: 'value 715', 716: 'value 716', 717: 'value 717', 718: 'value 718', 719: 'value 719', 720: 'value 720', 721: 'value 721', 722: 'value 722', 723: 'value 723', 724: 'value 724', 725: 'value 725', 726: 'value 726', 727: 'value 727', 728: 'value 728', 729: 'value 729', 730: 'value 730', 731: 'value 731', 732: 'value 732', 733: 'value 733', 734: 'value 734', 735: 'value 735', 736: 'value 736', 737: 'value 737', 738: 'value 738', 739: 'value 739', 740: 'value 740', 741: 'value 741', 742: 'value 742', 743: 'value 743', 744: 'value 744', 745: 'value 745', 746: 'value 746', 747: 'value 747', 748: 'value 748', 749: 'value 749', 750: 'value 750', 751: 'value 751', 752: 'value 752', 753: 'value 753', 754: 'value 754', 755: 'value 755', 756: 'value 756', 757: 'value 757', 758: 'value 758', 759: 'value 759', 760: 'value 760', 761: 'value 761', 762: 'value 762', 763: 'value 763', 764: 'value 764', 765: 'value 765', 766: 'value 766', 767: 'value 767', 768: 'value 768', 769: 'value 769', 770: 'value 770', 771: 'value 771', 772: 'value 772', 773: 'value 773', 774: 'value 774', 775: 'value 775', 776: 'value 776', 777: 'value 777', 778: 'value 778', 779: 'value 779', 780: 'value 780', 781: 'value 781', 782: 'value 782', 783: 'value 783', 784: 'value 784', 785: 'value 785', 786: 'value 786', 787: 'value 787', 788: 'value 788', 789: 'value 789', 790: 'value 790', 791: 'value 791', 792: 'value 792', 793: 'value 793', 794: 'value 794', 795: 'value 795', 796: 'value 796', 797: 'value 797', 798: 'value 798', 799: 'value 799', 800: 'value 800', 801: 'value 801', 802: 'value 802', 803: 'value 803', 804: 'value 804', 805: 'value 805', 806: 'value 806', 807: 'value 807', 808: 'value 808', 809: 'value 809', 810: 'value 810', 811: 'value 811', 812: 'value 812', 813: 'value 813', 814: 'value 814', 815: 'value 815', 816: 'value 816', 817: 'value 817', 818: 'value 818', 819: 'value 819', 820: 'value 820', 821: 'value 821', 822: 'value 822', 823: 'value 823', 824: 'value 824', 825: 'value 825', 826: 'value 826', 827: 'value 827', 828: 'value 828', 829: 'value 829', 830: 'value 830', 831: 'value 831', 832: 'value 832', 833: 'value 833', 834: 'value 834', 835: 'value 835', 836: 'value 836', 837: 'value 837', 838: 'value 838', 839: 'value 839', 840: 'value 840', 841: 'value 841', 842: 'value 842', 843: 'value 843', 844: 'value 844', 845: 'value 845', 846: 'value 846', 847: 'value 847', 848: 'value 848', 849: 'value 849', 850: 'value 850', 851: 'value 851', 852: 'value 852', 853: 'value 853', 854: 'value 854', 855: 'value 855', 856: 'value 856', 857: 'value 857', 858: 'value 858', 859: 'value 859', 860: 'value 860', 861: 'value 861', 862: 'value 862', 863: 'value 863', 864: 'value 864', 865: 'value 865', 866: 'value 866', 867: 'value 867', 868: 'value 868', 869: 'value 869', 870: 'value 870', 871: 'value 871', 872: 'value 872', 873: 'value 873', 874: 'value 874', 875: 'value 875', 876: 'value 876', 877: 'value 877', 878: 'value 878', 879: 'value 879', 880: 'value 880', 881: 'value 881', 882: 'value 882', 883: 'value 883', 884: 'value 884', 885: 'value 885', 886: 'value 886', 887: 'value 887', 888: 'value 888', 889: 'value 889', 890: 'value 890', 891: 'value 891', 892: 'value 892', 893: 'value 893', 894: 'value 894', 895: 'value 895', 896: 'value 896', 897: 'value 897', 898: 'value 898', 899: 'value 899', 900: 'value 900', 901: 'value 901', 902: 'value 902', 903: 'value 903', 904: 'value 904', 905: 'value 905', 906: 'value 906', 907: 'value 907', 908: 'value 908', 909: 'value 909', 910: 'value 910', 911: 'value 911', 912: 'value 912', 913: 'value 913', 914: 'value 914', 915: 'value 915', 916: 'value 916', 917: 'value 917', 918: 'value 918', 919: 'value 919', 920: 'value 920', 921: 'value 921', 922: 'value 922', 923: 'value 923', 924: 'value 924', 925: 'value 925', 926: 'value 926', 927: 'value 927', 928: 'value 928', 929: 'value 929', 930: 'value 930', 931: 'value 931', 932: 'value 932', 933: 'value 933', 934: 'value 934', 935: 'value 935', 936: 'value 936', 937: 'value 937', 938: 'value 938', 939: 'value 939', 940: 'value 940', 941: 'value 941', 942: 'value 942', 943: 'value 943', 944: 'value 944', 945: 'value 945', 946: 'value 946', 947: 'value 947', 948: 'value 948', 949: 'value 949', 950: 'value 950', 951: 'value 951', 952: 'value 952', 953: 'value 953', 954: 'value 954', 955: 'value 955', 956: 'value 956', 957: 'value 957', 958: 'value 958', 959: 'value 959', 960: 'value 960', 961: 'value 961', 962: 'value 962', 963: 'value 963', 964: 'value 964', 965: 'value 965', 966: 'value 966', 967: 'value 967', 968: 'value 968', 969: 'value 969', 970: 'value 970', 971: 'value 971', 972: 'value 972', 973: 'value 973', 974: 'value 974', 975: 'value 975', 976: 'value 976', 977: 'value 977', 978: 'value 978', 979: 'value 979', 980: 'value 980', 981: 'value 981', 982: 'value 982', 983: 'value 983', 984: 'value 984', 985: 'value 985', 986: 'value 986', 987: 'value 987', 988: 'value 988', 989: 'value 989', 990: 'value 990', 991: 'value 991', 992: 'value 992', 993: 'value 993', 994: 'value 994', 995: 'value 995', 996: 'value 996', 997: 'value 997', 998: 'value 998', 999: 'value 999'}\n"
     ]
    }
   ],
   "source": [
    "import time\n",
    "\n",
    "#generate dict\n",
    "d = {}\n",
    "\n",
    "for i in range (1000):\n",
    "    d[i] = \"value \" + str(i)\n",
    "\n",
    "#generate list\n",
    "big_list = [x for x in range(1000)]\n",
    "\n",
    "print(d)\n",
    "\n",
    "    "
   ]
  },
  {
   "cell_type": "code",
   "execution_count": 86,
   "metadata": {},
   "outputs": [
    {
     "name": "stdout",
     "output_type": "stream",
     "text": [
      "value 999\n",
      "elapsed time for dictionary: 0.0\n",
      "value 999\n",
      "elapsed time for dictionary: 0.0\n",
      "999\n",
      "elapsed time for dictionary: 0.0\n"
     ]
    }
   ],
   "source": [
    "#dicts will always take up space but will save on time\n",
    "\n",
    "#track the time for the dict\n",
    "\n",
    "start_time = time.time()\n",
    "\n",
    "print(d[999])\n",
    "\n",
    "end_time = time.time() - start_time\n",
    "\n",
    "print(f\"elapsed time for dictionary: {end_time}\")\n",
    "\n",
    "\n",
    "start_time = time.time()\n",
    "\n",
    "#Tracking time for the list\n",
    "for i in range(len(big_list)):\n",
    "    if i == 999:\n",
    "        print(f\"value \"+ str(i))\n",
    "        \n",
    "end_time = time.time() - start_time\n",
    "print(f\"elapsed time for dictionary: {end_time}\")\n",
    "\n",
    "#tracking time for a known position in list\n",
    "start_time = time.time()\n",
    "\n",
    "print(big_list[-1])\n",
    "end_time = time.time() - start_time\n",
    "print(f\"elapsed time for dictionary: {end_time}\")"
   ]
  },
  {
   "cell_type": "markdown",
   "metadata": {},
   "source": [
    "## Exercise #3 - Write a Function that asks someone's name and address, and then stores that into a dictionary, and continues to do so until they choose to 'quit'. Once they quit, the program should print all names and addresses. <br>\n",
    "<p>\n",
    "<b>Proper steps:</b><br>\n",
    "step 1: write a function that takes in information and stores it in a dictionary<br>\n",
    "step 2: define an empty dictionary to work with<br>\n",
    "step 3: create our loop, which asks the user for information until they quit<br>\n",
    "step 4: ask for the information, and store it into variables<br>\n",
    "step 5: check if the user types quit<br>\n",
    "step 5a: print out all information<br>\n",
    "step 5b: break out of the loop<br>\n",
    "step 6: if they didn't quit, add the information to the dictionary<br>\n",
    "step 7: invoke the function by calling it\n",
    "</p>"
   ]
  },
  {
   "cell_type": "code",
   "execution_count": 94,
   "metadata": {},
   "outputs": [
    {
     "name": "stdout",
     "output_type": "stream",
     "text": [
      "Enter a name or say 'quit' to quit: quit\n"
     ]
    }
   ],
   "source": [
    "from IPython.display import clear_output\n",
    "\n",
    "# Step 1\n",
    "def storeInfo():\n",
    "    d = {} #step 2\n",
    "    \n",
    "    while True: #step 3\n",
    "        name = input(\"Enter a name or say 'quit' to quit: \") #step 4\n",
    "        if name.lower() !=  'quit':\n",
    "            address = input(\"Enter an address or say 'quit' to quit: \")\n",
    "        \n",
    "        if name.lower() == \"quit\" or address.lower() == \"quit\": #step 5\n",
    "            for key, value in d.items(): #step 5a\n",
    "                print(f\"The address for {key} is {value}\")\n",
    "            break\n",
    "        d[name] = address #step 6\n",
    "\n",
    "storeInfo() #step 7"
   ]
  },
  {
   "cell_type": "markdown",
   "metadata": {},
   "source": [
    "## Set <br>\n",
    "<p>A Set is an unordered collection data type that is iterable (loop), mutable, and has no duplicate elements.<br>Major advantage is that it is highly optimized in checking if something is in the set, as opposed to checking if something is in a list.</p>"
   ]
  },
  {
   "cell_type": "markdown",
   "metadata": {},
   "source": [
    "##### Declaring"
   ]
  },
  {
   "cell_type": "code",
   "execution_count": 99,
   "metadata": {},
   "outputs": [
    {
     "name": "stdout",
     "output_type": "stream",
     "text": [
      "{8, 1, 4}\n",
      "{0, 1, 6, 7, 11}\n"
     ]
    }
   ],
   "source": [
    "# set() or {}\n",
    "# no order {3, 2, 1} outputs as {1, 2, 3}\n",
    "nums = {4, 1, 8, 4}\n",
    "print(nums)\n",
    "\n",
    "my_list = [1,1,1,1,1,1,1,1,1,1,11,6,6,6,6,7,0]\n",
    "\n",
    "my_set = set(my_list)\n",
    "print(my_set)\n"
   ]
  },
  {
   "cell_type": "code",
   "execution_count": null,
   "metadata": {},
   "outputs": [],
   "source": [
    "my_list = [1,1,1,1,1,1,1,1,1,1,11,6,6,6,6,7,0]\n",
    "my_set = set(my_list)\n",
    "\n",
    "print(my_set)\n",
    "\n",
    "my_list = list(my_set)\n",
    "\n",
    "print(len(my_set))\n",
    "#print(my_set[1])) cannot index because sets have No order\n",
    "\n"
   ]
  },
  {
   "cell_type": "markdown",
   "metadata": {},
   "source": [
    "##### .add()"
   ]
  },
  {
   "cell_type": "code",
   "execution_count": 104,
   "metadata": {},
   "outputs": [
    {
     "name": "stdout",
     "output_type": "stream",
     "text": [
      "{2, 4, 5, 7, 9}\n",
      "{2, 4, 5, 22, 7, 9}\n"
     ]
    }
   ],
   "source": [
    "# set.add()\n",
    "\n",
    "my_set = {2, 5, 4, 7, 9}\n",
    "print(my_set)\n",
    "my_set.add(22)\n",
    "print(my_set)\n"
   ]
  },
  {
   "cell_type": "markdown",
   "metadata": {},
   "source": [
    "##### .remove()"
   ]
  },
  {
   "cell_type": "code",
   "execution_count": 106,
   "metadata": {},
   "outputs": [
    {
     "name": "stdout",
     "output_type": "stream",
     "text": [
      "{2, 4, 5, 22, 7, 9}\n",
      "{2, 4, 5, 7, 9}\n"
     ]
    }
   ],
   "source": [
    "# removes by value\n",
    "# set.remove()\n",
    "# nums.remove(56)\n",
    "print(my_set)\n",
    "my_set.remove(22)\n",
    "print(my_set)"
   ]
  },
  {
   "cell_type": "markdown",
   "metadata": {},
   "source": [
    "##### .union() "
   ]
  },
  {
   "cell_type": "code",
   "execution_count": 112,
   "metadata": {},
   "outputs": [
    {
     "name": "stdout",
     "output_type": "stream",
     "text": [
      "{1, 2, 3, 4, 5, 6}\n",
      "{1, 2, 3, 4, 5, 6}\n"
     ]
    }
   ],
   "source": [
    "# Returns a union of two sets, can also use '|' or set.union(set)\n",
    "# joins all numbers, gets rid of duplicates\n",
    "s_1 = {1,2,3,4}\n",
    "s_2 = {3,4,5,6}\n",
    "\n",
    "s_3 = s_1.union(s_2)\n",
    "\n",
    "print(s_3)\n",
    "\n",
    "#or\n",
    "\n",
    "s_4 = s_2 | s_1\n",
    "\n",
    "print(s_4)\n"
   ]
  },
  {
   "cell_type": "markdown",
   "metadata": {},
   "source": [
    "##### .intersection()"
   ]
  },
  {
   "cell_type": "code",
   "execution_count": 113,
   "metadata": {},
   "outputs": [
    {
     "name": "stdout",
     "output_type": "stream",
     "text": [
      "{3, 4}\n",
      "{3, 4}\n"
     ]
    }
   ],
   "source": [
    "# Returns an intersection of two sets, can also use '&'\n",
    "# only takes similar elements from both sets\n",
    "s_1 = {1,2,3,4}\n",
    "s_2 = {3,4,5,6}\n",
    "\n",
    "s_3 = s_1.intersection(s_2)\n",
    "\n",
    "s_4 = s_1 & s_2\n",
    "\n",
    "print(s_3)\n",
    "print(s_4)"
   ]
  },
  {
   "cell_type": "markdown",
   "metadata": {},
   "source": [
    "##### .difference()"
   ]
  },
  {
   "cell_type": "code",
   "execution_count": 117,
   "metadata": {},
   "outputs": [
    {
     "name": "stdout",
     "output_type": "stream",
     "text": [
      "{1, 2}\n",
      "{5, 6}\n",
      "{1, 2}\n",
      "{5, 6}\n"
     ]
    }
   ],
   "source": [
    "# Returns a set containing all the elements of invoking set that are not in the second set, can also use '-'\n",
    "# only takes values from the first set that are not in the second set\n",
    "# order matters\n",
    "s1 = {1,2,3,4}\n",
    "s2 = {3,4,5,6}\n",
    "\n",
    "s3 = s1 - s2\n",
    "s4 = s2 - s1\n",
    "\n",
    "s5 = s1.difference(s2)\n",
    "s6 = s2.difference(s1)\n",
    "print(s3)\n",
    "print(s4)\n",
    "print(s5)\n",
    "print(s6)"
   ]
  },
  {
   "cell_type": "markdown",
   "metadata": {},
   "source": [
    "##### .clear()"
   ]
  },
  {
   "cell_type": "code",
   "execution_count": 121,
   "metadata": {},
   "outputs": [
    {
     "name": "stdout",
     "output_type": "stream",
     "text": [
      "{1, 2, 3, 4}\n",
      "set()\n"
     ]
    }
   ],
   "source": [
    "# Empties the whole set\n",
    "# set.clear()\n",
    "s1 = {1,2,3,4}\n",
    "print(s1)\n",
    "s1.clear()\n",
    "print(s1)"
   ]
  },
  {
   "cell_type": "code",
   "execution_count": 122,
   "metadata": {},
   "outputs": [
    {
     "name": "stdout",
     "output_type": "stream",
     "text": [
      "{}\n"
     ]
    }
   ],
   "source": [
    "my_dict = {}\n",
    "print(my_dict)"
   ]
  },
  {
   "cell_type": "markdown",
   "metadata": {},
   "source": [
    "##### Frozenset <br>\n",
    "<p>Frozen sets are immutable objects that only support methods and operators that produce a result without affecting the frozen set or sets to which they are applied.</p><br><b>Unique & Immutable</b>"
   ]
  },
  {
   "cell_type": "code",
   "execution_count": 126,
   "metadata": {},
   "outputs": [
    {
     "name": "stdout",
     "output_type": "stream",
     "text": [
      "{2, 3, 4, 5, 7, 'my dog is neat', 'hello'}\n",
      "frozenset({2, 3, 4, 5, 7, 'my dog is neat', 'hello'})\n",
      "{2, 3, 4, 5, 7, 'my dog is neat', 'hello'}\n",
      "frozenset({2, 3, 4, 5, 'cool beans', 7, 'hello', 'my dog is neat'})\n"
     ]
    }
   ],
   "source": [
    "# frozenset([])\n",
    "my_set = {2, 3, 4, 'hello', 7, 'my dog is neat', 5}\n",
    "print(my_set)\n",
    "\n",
    "frozen_set = frozenset(my_set)\n",
    "print(frozen_set)\n",
    "\n",
    "#frozen_set.add(22)\n",
    "#frozen_set.remove(5) #these do not work, its immutable\n",
    "\n",
    "my_new_set = set(frozen_set) #convert back to regular set if you want to mutate\n",
    "print(my_new_set)\n",
    "my_new_set.add('cool beans')\n",
    "frozen_set = frozenset(my_new_set)\n",
    "print(frozen_set)"
   ]
  },
  {
   "cell_type": "markdown",
   "metadata": {},
   "source": [
    "## Modules"
   ]
  },
  {
   "cell_type": "markdown",
   "metadata": {},
   "source": [
    "##### Importing Entire Modules"
   ]
  },
  {
   "cell_type": "code",
   "execution_count": 134,
   "metadata": {},
   "outputs": [
    {
     "name": "stdout",
     "output_type": "stream",
     "text": [
      "3.141592653589793\n",
      "3\n",
      "4\n"
     ]
    }
   ],
   "source": [
    "# import \n",
    "# or \n",
    "# from 'xxx' import *\n",
    "import math\n",
    "\n",
    "print(math.pi)\n",
    "\n",
    "num = 5\n",
    "num2 = 2\n",
    "num3 = 5//2\n",
    "print(3)\n",
    "print(math.ceil(math.pi))"
   ]
  },
  {
   "cell_type": "markdown",
   "metadata": {},
   "source": [
    "##### Importing Methods Only"
   ]
  },
  {
   "cell_type": "code",
   "execution_count": 135,
   "metadata": {},
   "outputs": [
    {
     "name": "stdout",
     "output_type": "stream",
     "text": [
      "3.141592653589793\n",
      "3\n"
     ]
    }
   ],
   "source": [
    "# from 'xxx' import 'xxx'\n",
    "# from math import floor\n",
    "from math import floor, pi\n",
    "\n",
    "print(pi)\n",
    "print(floor(pi))"
   ]
  },
  {
   "cell_type": "markdown",
   "metadata": {},
   "source": [
    "##### Using the 'as' Keyword"
   ]
  },
  {
   "cell_type": "code",
   "execution_count": 137,
   "metadata": {},
   "outputs": [
    {
     "name": "stdout",
     "output_type": "stream",
     "text": [
      "3.141592653589793\n",
      "3\n"
     ]
    }
   ],
   "source": [
    "# from 'xxx' import 'xxx' as 'xxx' or import 'xxx' as 'xxx'\n",
    "# from math import floor as f\n",
    "from math import floor as f, pi as p\n",
    "\n",
    "print(p)\n",
    "print(f(p))"
   ]
  },
  {
   "cell_type": "markdown",
   "metadata": {},
   "source": [
    "##### Creating a Module"
   ]
  },
  {
   "cell_type": "code",
   "execution_count": 156,
   "metadata": {},
   "outputs": [
    {
     "name": "stdout",
     "output_type": "stream",
     "text": [
      "Hello Mr/Ms John...we've been waiting for you!\n"
     ]
    }
   ],
   "source": [
    "from module import printName as pn #coming from separate module.py file in same folder as this\n",
    "\n",
    "pn(\"John\")\n"
   ]
  },
  {
   "cell_type": "markdown",
   "metadata": {},
   "source": [
    "# Exercises"
   ]
  },
  {
   "cell_type": "markdown",
   "metadata": {},
   "source": [
    "### 1) Build a Shopping Cart <br>\n",
    "<p><b>You can use either lists or dictionaries. The program should have the following capabilities:</b><br><br>\n",
    "1) Takes in input <br>\n",
    "2) Stores user input into a dictionary or list <br>\n",
    "3) The User can add or delete items <br>\n",
    "4) The User can see current shopping list <br>\n",
    "5) The program Loops until user 'quits' <br>\n",
    "6) Upon quiting the program, print out all items in the user's list <br>\n",
    "</p>"
   ]
  },
  {
   "cell_type": "code",
   "execution_count": 14,
   "metadata": {},
   "outputs": [
    {
     "name": "stdout",
     "output_type": "stream",
     "text": [
      "Hello consumer. Welcome to the store where we have literally everything in stock.\n",
      "Name it and you can buy it! Let's start your cart! 🤑\n",
      "\n",
      "Please specify a single item (*type SHOW to view current shopping cart or type QUIT if finished*): apple\n",
      "Please specify if you would like to ADD or DELETE this item (*type CANCEL if you entered incorrect item*): add\n",
      "\n",
      "***Apple has been added to your cart.***\n",
      "Please specify a single item (*type SHOW to view current shopping cart or type QUIT if finished*): show\n",
      "Here's what your shopping cart is looking like at the moment: \n",
      "Apple (Qty: 1)\n",
      "Please specify a single item (*type SHOW to view current shopping cart or type QUIT if finished*): apple\n",
      "Please specify if you would like to ADD or DELETE this item (*type CANCEL if you entered incorrect item*): add\n",
      "\n",
      "***Apple has been added to your cart.***\n",
      "Please specify a single item (*type SHOW to view current shopping cart or type QUIT if finished*): show\n",
      "Here's what your shopping cart is looking like at the moment: \n",
      "Apple (Qty: 2)\n",
      "Please specify a single item (*type SHOW to view current shopping cart or type QUIT if finished*): apple\n",
      "Please specify if you would like to ADD or DELETE this item (*type CANCEL if you entered incorrect item*): delete\n",
      "...Removing apple. Please specify how many to remove: 10\n",
      "\n",
      "...Sorry, that is not a valid amount.\n",
      "\n",
      "Please specify a single item (*type SHOW to view current shopping cart or type QUIT if finished*): apple\n",
      "Please specify if you would like to ADD or DELETE this item (*type CANCEL if you entered incorrect item*): add\n",
      "\n",
      "***Apple has been added to your cart.***\n",
      "Please specify a single item (*type SHOW to view current shopping cart or type QUIT if finished*): horse\n",
      "Please specify if you would like to ADD or DELETE this item (*type CANCEL if you entered incorrect item*): add\n",
      "\n",
      "***Horse has been added to your cart.***\n",
      "Please specify a single item (*type SHOW to view current shopping cart or type QUIT if finished*): banana bread\n",
      "Please specify if you would like to ADD or DELETE this item (*type CANCEL if you entered incorrect item*): add\n",
      "\n",
      "***Banana Bread has been added to your cart.***\n",
      "Please specify a single item (*type SHOW to view current shopping cart or type QUIT if finished*): show\n",
      "Here's what your shopping cart is looking like at the moment: \n",
      "Apple (Qty: 3)\n",
      "Horse (Qty: 1)\n",
      "Banana Bread (Qty: 1)\n",
      "Please specify a single item (*type SHOW to view current shopping cart or type QUIT if finished*): horse\n",
      "Please specify if you would like to ADD or DELETE this item (*type CANCEL if you entered incorrect item*): add\n",
      "\n",
      "***Horse has been added to your cart.***\n",
      "Please specify a single item (*type SHOW to view current shopping cart or type QUIT if finished*): show\n",
      "Here's what your shopping cart is looking like at the moment: \n",
      "Apple (Qty: 3)\n",
      "Horse (Qty: 2)\n",
      "Banana Bread (Qty: 1)\n",
      "Please specify a single item (*type SHOW to view current shopping cart or type QUIT if finished*): celery\n",
      "Please specify if you would like to ADD or DELETE this item (*type CANCEL if you entered incorrect item*): add\n",
      "\n",
      "***Celery has been added to your cart.***\n",
      "Please specify a single item (*type SHOW to view current shopping cart or type QUIT if finished*): celery\n",
      "Please specify if you would like to ADD or DELETE this item (*type CANCEL if you entered incorrect item*): delete\n",
      "...Removing celery. Please specify how many to remove: 1\n",
      "***1 celery has/have been removed from your cart.***\n",
      "Please specify a single item (*type SHOW to view current shopping cart or type QUIT if finished*): show\n",
      "Here's what your shopping cart is looking like at the moment: \n",
      "Apple (Qty: 3)\n",
      "Horse (Qty: 2)\n",
      "Banana Bread (Qty: 1)\n",
      "Please specify a single item (*type SHOW to view current shopping cart or type QUIT if finished*): jetski\n",
      "Please specify if you would like to ADD or DELETE this item (*type CANCEL if you entered incorrect item*): add\n",
      "\n",
      "***Jetski has been added to your cart.***\n",
      "Please specify a single item (*type SHOW to view current shopping cart or type QUIT if finished*): snowboard\n",
      "Please specify if you would like to ADD or DELETE this item (*type CANCEL if you entered incorrect item*): add\n",
      "\n",
      "***Snowboard has been added to your cart.***\n",
      "Please specify a single item (*type SHOW to view current shopping cart or type QUIT if finished*): A5 Wagyu Steak with Gold Flakes and Truffle\n",
      "Please specify if you would like to ADD or DELETE this item (*type CANCEL if you entered incorrect item*): add\n",
      "\n",
      "***A5 Wagyu Steak With Gold Flakes And Truffle has been added to your cart.***\n",
      "Please specify a single item (*type SHOW to view current shopping cart or type QUIT if finished*): show\n",
      "Here's what your shopping cart is looking like at the moment: \n",
      "Apple (Qty: 3)\n",
      "Horse (Qty: 2)\n",
      "Banana Bread (Qty: 1)\n",
      "Jetski (Qty: 1)\n",
      "Snowboard (Qty: 1)\n",
      "A5 Wagyu Steak With Gold Flakes And Truffle (Qty: 1)\n",
      "Please specify a single item (*type SHOW to view current shopping cart or type QUIT if finished*): 4 story yacht\n",
      "Please specify if you would like to ADD or DELETE this item (*type CANCEL if you entered incorrect item*): add\n",
      "\n",
      "***4 Story Yacht has been added to your cart.***\n",
      "Please specify a single item (*type SHOW to view current shopping cart or type QUIT if finished*): show\n",
      "Here's what your shopping cart is looking like at the moment: \n",
      "Apple (Qty: 3)\n",
      "Horse (Qty: 2)\n",
      "Banana Bread (Qty: 1)\n",
      "Jetski (Qty: 1)\n",
      "Snowboard (Qty: 1)\n",
      "A5 Wagyu Steak With Gold Flakes And Truffle (Qty: 1)\n",
      "4 Story Yacht (Qty: 1)\n",
      "Please specify a single item (*type SHOW to view current shopping cart or type QUIT if finished*): banana\n",
      "Please specify if you would like to ADD or DELETE this item (*type CANCEL if you entered incorrect item*): add\n",
      "\n",
      "***Banana has been added to your cart.***\n",
      "Please specify a single item (*type SHOW to view current shopping cart or type QUIT if finished*): show\n",
      "Here's what your shopping cart is looking like at the moment: \n",
      "Apple (Qty: 3)\n",
      "Horse (Qty: 2)\n",
      "Banana Bread (Qty: 1)\n",
      "Jetski (Qty: 1)\n",
      "Snowboard (Qty: 1)\n",
      "A5 Wagyu Steak With Gold Flakes And Truffle (Qty: 1)\n",
      "4 Story Yacht (Qty: 1)\n",
      "Banana (Qty: 1)\n",
      "Please specify a single item (*type SHOW to view current shopping cart or type QUIT if finished*): show\n",
      "Here's what your shopping cart is looking like at the moment: \n",
      "Apple (Qty: 3)\n",
      "Horse (Qty: 2)\n",
      "Banana Bread (Qty: 1)\n",
      "Jetski (Qty: 1)\n",
      "Snowboard (Qty: 1)\n",
      "A5 Wagyu Steak With Gold Flakes And Truffle (Qty: 1)\n",
      "4 Story Yacht (Qty: 1)\n",
      "Banana (Qty: 1)\n",
      "Please specify a single item (*type SHOW to view current shopping cart or type QUIT if finished*): quit\n",
      "\n",
      "Thanks for shopping with us. Expect the following to arrive within 5-7 business day...\n",
      "--------------- \n",
      "Apple (Qty: 3)\n",
      "Horse (Qty: 2)\n",
      "Banana Bread (Qty: 1)\n",
      "Jetski (Qty: 1)\n",
      "Snowboard (Qty: 1)\n",
      "A5 Wagyu Steak With Gold Flakes And Truffle (Qty: 1)\n",
      "4 Story Yacht (Qty: 1)\n",
      "Banana (Qty: 1)\n",
      "--------------- \n"
     ]
    }
   ],
   "source": [
    "from IPython.display import clear_output\n",
    "\n",
    "# Ask the user four bits of input: Do you want to : Show/Add/Delete or Quit?\n",
    "\n",
    "def shopping():\n",
    "    quit = False\n",
    "    cart = {}\n",
    "    items = []\n",
    "    print(\"Hello consumer. Welcome to the store where we have literally everything in stock.\\nName it and you can buy it! Let's start your cart! \\U0001F911\\n\")\n",
    "    while quit == False:\n",
    "        item = input(\"Please specify a single item (*type SHOW to view current shopping cart or type QUIT if finished*): \")\n",
    "        item = item.lower()\n",
    "        if item == 'quit':\n",
    "            quit = True\n",
    "        elif item == 'show':\n",
    "            for item, qty in cart.items():\n",
    "                if qty == 0:\n",
    "                    del cart[item]\n",
    "                    break\n",
    "            if items:\n",
    "                print(\"Here's what your shopping cart is looking like at the moment: \")\n",
    "                for item, qty in cart.items():\n",
    "                    print(f\"{item.title()} (Qty: {qty})\")\n",
    "            else:\n",
    "                print(\"\\nYour cart is empty.\\n\")\n",
    "        else:\n",
    "            item_action = input(\"Please specify if you would like to ADD or DELETE this item (*type CANCEL if you entered incorrect item*): \")\n",
    "            item_action = item_action.lower()\n",
    "            if item_action == 'add':\n",
    "                items.append(item)\n",
    "                items_no_dupes = list(dict.fromkeys(items))\n",
    "                if item in items_no_dupes:    \n",
    "                    if item not in cart:\n",
    "                        cart[item] = 1\n",
    "                    else:\n",
    "                        cart[item] += 1\n",
    "                print(f\"\\n***{item.title()} has been added to your cart.***\")\n",
    "            elif item_action == 'delete':\n",
    "                delete_count = int(input(f\"...Removing {item}. Please specify how many to remove: \"))\n",
    "                if item in cart:\n",
    "                    if delete_count >= 1 and delete_count <= cart[item]:\n",
    "                        for i in range(delete_count):\n",
    "                            items.remove(item)\n",
    "                            cart[item] -= 1\n",
    "                        print(f\"***{delete_count} {item} has/have been removed from your cart.***\")\n",
    "                    else:\n",
    "                        print(\"\\n...Sorry, that is not a valid amount.\\n\")\n",
    "                else:\n",
    "                    print(\"\\n...This was never added to your cart to begin with.\\n\")\n",
    "            elif item_action == 'cancel':\n",
    "                continue\n",
    "            else:\n",
    "                print(\"\\n...Sorry, not a valid command.\\n\")\n",
    "    if items:\n",
    "        print(\"\\nThanks for shopping with us. Expect the following to arrive within 5-7 business day...\\n--------------- \")\n",
    "        for item, qty in cart.items():\n",
    "            print(f\"{item.title()} (Qty: {qty})\")\n",
    "        print(\"--------------- \")\n",
    "    else:\n",
    "        print(\"\\nHopefully you shop with us another time!\")\n",
    "    \n",
    "shopping()\n",
    "\n",
    "\n",
    "        \n",
    "    \n"
   ]
  },
  {
   "cell_type": "markdown",
   "metadata": {},
   "source": [
    "### 2) Create a Module in VS Code and Import It into jupyter notebook <br>\n",
    "<p><b>Module should have the following capabilities:</b><br><br>\n",
    "1) Has a function to calculate the square footage of a house <br>\n",
    "    <b>Reminder of Formula: Length X Width == Area<br>\n",
    "        <hr>\n",
    "2) Has a function to calculate the circumference of a circle <br><br>\n",
    "<b>Program in Jupyter Notebook should take in user input and use imported functions to calculate a circle's circumference or a houses square footage</b>\n",
    "</p>"
   ]
  },
  {
   "cell_type": "code",
   "execution_count": null,
   "metadata": {},
   "outputs": [],
   "source": [
    "from module import *\n",
    "\n",
    "length = int(input(\"What is the length of the house: \"))\n",
    "width = int(input(\"What is the width of the house: \"))\n",
    "\n",
    "findArea(length, width)\n"
   ]
  },
  {
   "cell_type": "code",
   "execution_count": null,
   "metadata": {},
   "outputs": [],
   "source": [
    "from module import *\n",
    "\n",
    "r = int(input(\"What is the radius of this circle: \"))\n",
    "\n",
    "findCircumference(r)"
   ]
  },
  {
   "cell_type": "code",
   "execution_count": null,
   "metadata": {},
   "outputs": [],
   "source": []
  }
 ],
 "metadata": {
  "kernelspec": {
   "display_name": "Python 3 (ipykernel)",
   "language": "python",
   "name": "python3"
  },
  "language_info": {
   "codemirror_mode": {
    "name": "ipython",
    "version": 3
   },
   "file_extension": ".py",
   "mimetype": "text/x-python",
   "name": "python",
   "nbconvert_exporter": "python",
   "pygments_lexer": "ipython3",
   "version": "3.9.13"
  }
 },
 "nbformat": 4,
 "nbformat_minor": 2
}
